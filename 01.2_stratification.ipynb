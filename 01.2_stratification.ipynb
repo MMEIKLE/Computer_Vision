{
 "cells": [
  {
   "cell_type": "markdown",
   "metadata": {
    "tags": []
   },
   "source": [
    "![Practicum AI Logo image](https://github.com/PracticumAI/practicumai.github.io/blob/main/images/logo/PracticumAI_logo_250x50.png?raw=true) <img src='https://github.com/PracticumAI/deep_learning/blob/main/images/practicumai_deep_learning.png?raw=true' alt='Practicum AI: Deep Learning Foundations icon' align='right' width=50>\n",
    "***"
   ]
  },
  {
   "cell_type": "markdown",
   "metadata": {},
   "source": [
    "# Computer Vision Concepts Continued\n",
    "\n",
    "Kevin now has a decent understanding of CNNs and how they work, but his model is still not performing as well as he would like. He's been reading up on some techniques to improve his model's performance and is excited to try them out. In this notebook, Kevin will learn about how to apply some of the class balancing techniques he's been learning from Amelia.\n",
    "\n",
    "In this notebook, Kevin will learn about stratified sampling and how to apply it to his dataset.\n",
    "\n",
    "## [!!!INSERT IMAGE ABOUT CLASS IMBALANCE!!!]\n"
   ]
  },
  {
   "cell_type": "markdown",
   "metadata": {},
   "source": [
    "## 1. Import the libraries we will use"
   ]
  },
  {
   "cell_type": "code",
   "execution_count": 6,
   "metadata": {
    "tags": []
   },
   "outputs": [
    {
     "name": "stdout",
     "output_type": "stream",
     "text": [
      "The tensorboard extension is already loaded. To reload it, use:\n",
      "  %reload_ext tensorboard\n"
     ]
    }
   ],
   "source": [
    "import tensorflow as tf   # Import the TensorFlow library, which provides tools for deep learning.\n",
    "import pandas as pd  # Import the pandas library, used for data manipulation and analysis.\n",
    "from sklearn.model_selection import train_test_split\n",
    "\n",
    "# Used for data management\n",
    "import requests\n",
    "import os\n",
    "import time\n",
    "import tarfile\n",
    "\n",
    "import matplotlib.pyplot as plt  # Import the matplotlib library for plotting and visualization.\n",
    "# This line allows for the display of plots directly within the Jupyter notebook interface.\n",
    "%matplotlib inline  \n",
    " \n",
    "# Import Keras libraries\n",
    "from tensorflow.keras.preprocessing.image import ImageDataGenerator  # Import the ImageDataGenerator class from Keras module in TensorFlow.\n",
    "from tensorflow.keras.models import Sequential  # Import the Sequential model: a linear stack of layers from Keras module in TensorFlow.\n",
    "from tensorflow.keras.layers import Dense  # Import the Dense layer: a fully connected neural network layer from Keras module in TensorFlow.\n",
    "from tensorflow.keras.layers import Flatten  # Import the Flatten layer: used to convert input data into a 1D array from Keras module in TensorFlow.\n",
    "from tensorflow.keras.losses import SparseCategoricalCrossentropy  # Import the SparseCategoricalCrossentropy loss function from Keras module in TensorFlow.\n",
    "from tensorflow.keras.utils import to_categorical\n",
    "from tensorflow.keras import layers \n",
    "from tensorflow.keras import losses\n",
    "from sklearn.metrics import confusion_matrix \n",
    "import numpy as np \n",
    "\n",
    "# Import helper functions--most of these were in the cells of the DLF_03_bees_vs_wasps.ipynb notebook.\n",
    "# We moved them out of the notebook to enhace readability. \n",
    "import helpers_01\n",
    "\n",
    "# Load the TensorBoard notebook extension\n",
    "%load_ext tensorboard"
   ]
  },
  {
   "cell_type": "markdown",
   "metadata": {},
   "source": [
    "## 2. Exploring the data\n",
    "\n",
    "As before we'll use our helper function `helpers_01.manage_data` to make sure we have the data and set the `data_path`.\n",
    "\n",
    "In the last notebook, Kevin noticed that his model had a big problem: it thought everything was wasps! Let's explore the data a bit and see if we can figure out why.\n",
    "\n",
    "First let's make a histogram of the number of images in each class. That should give us a good idea of how balanced the dataset is."
   ]
  },
  {
   "cell_type": "code",
   "execution_count": 7,
   "metadata": {
    "tags": []
   },
   "outputs": [
    {
     "name": "stdout",
     "output_type": "stream",
     "text": [
      "Found data at /blue/practicum-ai/share/data/bee_vs_wasp.\n"
     ]
    }
   ],
   "source": [
    "# Chech for the data.\n",
    "data_path = helpers_01.manage_data() "
   ]
  },
  {
   "cell_type": "code",
   "execution_count": 16,
   "metadata": {
    "tags": []
   },
   "outputs": [
    {
     "name": "stdout",
     "output_type": "stream",
     "text": [
      "wasp: 4,943 images, or 43.3% of total images.\n",
      "bee: 3,184 images, or 27.9% of total images.\n",
      "other_insect: 2,439 images, or 21.4% of total images.\n",
      "other_noinsect: 856 images, or 7.5% of total images.\n",
      "************************************\n"
     ]
    },
    {
     "data": {
      "image/png": "[encoded data removed]",
      "text/plain": [
       "<Figure size 640x480 with 1 Axes>"
      ]
     },
     "metadata": {},
     "output_type": "display_data"
    }
   ],
   "source": [
    "# Make a histogram of the number of images in each class\n",
    "def make_hist(data_path):\n",
    "    # Get the class names\n",
    "    class_names = os.listdir(data_path)\n",
    "\n",
    "    # Initialize an empty list to store the number of images in each class\n",
    "    num_images = []\n",
    "\n",
    "    # Loop through each class\n",
    "    for class_name in class_names:\n",
    "        # Get the list of images in the class\n",
    "        images = os.listdir(os.path.join(data_path, class_name))\n",
    "        # Append the number of images in the class to the list\n",
    "        num_images.append(len(images))\n",
    "\n",
    "    # Put the number of images in each class in descending order\n",
    "    num_images, class_names = zip(*sorted(zip(num_images, class_names), reverse=True))\n",
    "\n",
    "    total_images = sum(num_images)\n",
    "    \n",
    "    # Print the number of images in each class\n",
    "    for i in range(len(class_names)):\n",
    "        percentage = (num_images[i] / total_images) * 100\n",
    "        print(f'{class_names[i]}: {num_images[i]:,} images, or {percentage:.1f}% of total images.')\n",
    "\n",
    "    print(\"************************************\")       \n",
    "        \n",
    "    # Create a histogram of the number of images in each class\n",
    "    plt.bar(class_names, num_images)\n",
    "    plt.xlabel('Class')\n",
    "    plt.ylabel('Number of Images')\n",
    "    plt.title('Number of Images in Each Class')\n",
    "    plt.show()\n",
    "\n",
    "make_hist(data_path)"
   ]
  },
  {
   "cell_type": "markdown",
   "metadata": {},
   "source": [
    "Yikes! That's a pretty big class imbalance--there are almost 5,000 wasp images and less than 1,000 other non-insect images. Large class imbalances tend to make models biased towards the majority class. This is likely why Kevin's model was predicting everything as wasps. Let's try to fix this.\n",
    "\n",
    "## 3. Stratified sampling\n",
    "\n",
    "There are many ways to address this issue. One of which is stratified sampling. This is a technique where we sample from the dataset in such a way that the distribution of classes in the sample is the same as the distribution of classes in the dataset. This way, we can ensure that the model sees a balanced dataset during training.\n",
    "\n",
    "Let's try this out. We'll use the `train_test_split` function from `sklearn` to split the data into training and validation sets. We'll set the `stratify` parameter to the labels so that the function samples in a stratified manner.\n",
    "\n"
   ]
  },
  {
   "cell_type": "code",
   "execution_count": 31,
   "metadata": {
    "tags": []
   },
   "outputs": [
    {
     "name": "stdout",
     "output_type": "stream",
     "text": [
      "***********************************************************************\n",
      "Load data:\n",
      "  - Loading the dataset from: /blue/practicum-ai/share/data/bee_vs_wasp.\n",
      "  - Using a batch size of: 32.\n",
      "  - Resizing input images to: (80, 80, 3).\n",
      "***********************************************************************\n",
      "Number of wasp images: 4943:,\n",
      "Number of other_insect images: 2439:,\n",
      "Number of bee images: 3184:,\n",
      "Number of other_noinsect images: 856:,\n",
      "Found 9136 validated image filenames belonging to 4 classes.\n"
     ]
    },
    {
     "name": "stderr",
     "output_type": "stream",
     "text": [
      "/apps/tensorflow/2.15/lib/python3.11/site-packages/keras/src/preprocessing/image.py:1137: UserWarning: Found 1 invalid image filename(s) in x_col=\"image\". These filename(s) will be ignored.\n",
      "  warnings.warn(\n"
     ]
    },
    {
     "name": "stdout",
     "output_type": "stream",
     "text": [
      "Found 2285 validated image filenames belonging to 4 classes.\n",
      "Number of wasp images: 3954\n",
      "Number of other_insect images: 1951\n",
      "Number of bee images: 2547\n",
      "Number of other_noinsect images: 685\n"
     ]
    }
   ],
   "source": [
    "# Create a function that loads data for an object detection model\n",
    "def prep_display_data(path, batch_size=32, shape=(80,80,3), show_pictures=False, stratify=True, normalize=True, ):\n",
    "    '''Takes a path, batch size, target shape for images and optionally whether to show sample images.\n",
    "       Returns training and testing datasets\n",
    "    '''\n",
    "    print(\"***********************************************************************\")\n",
    "    print(\"Load data:\")\n",
    "    print(f\"  - Loading the dataset from: {path}.\")\n",
    "    print(f\"  - Using a batch size of: {batch_size}.\")\n",
    "    print(f\"  - Resizing input images to: {shape}.\")\n",
    "    print(\"***********************************************************************\")\n",
    "    \n",
    "    batch_size = batch_size  # Define the batch size\n",
    "    \n",
    "    # Define the image size using the 1st 2 elements of the shape parameter\n",
    "    # We don't need the number of channels here, just the dimensions to use\n",
    "    image_size = shape[:2]\n",
    "\n",
    "    # Get the class names\n",
    "    class_names = os.listdir(path)\n",
    "\n",
    "    images = [] # Initialize the images list\n",
    "    labels = [] # Initialize the labels list\n",
    "\n",
    "    # Get the images and labels to use for training and validation\n",
    "    for class_name in class_names:\n",
    "        class_path = os.path.join(path, class_name)\n",
    "        for image_name in os.listdir(class_path):\n",
    "            image_path = os.path.join(class_path, image_name)\n",
    "            images.append(image_path)\n",
    "            labels.append(class_name)\n",
    "\n",
    "    # Print the number of number of images per class\n",
    "    for class_name in class_names:\n",
    "        print(f'Number of {class_name} images: {labels.count(class_name)}:,')\n",
    "    \n",
    "    if stratify: # Use sklearn's train_test_split function to split the data into training and testing sets\n",
    "        # Split the data in a stratified manner\n",
    "        X_train, X_val, y_train, y_val = train_test_split(images, labels, test_size=0.2, stratify=labels)\n",
    "    else:\n",
    "        # Split the data randomly\n",
    "        X_train, X_val = train_test_split(images, test_size=0.2)\n",
    "\n",
    "    # Build the DataFrames for the training and validation sets\n",
    "    train_df = pd.DataFrame(list(zip(X_train, y_train)), columns=['image', 'class'])\n",
    "    val_df = pd.DataFrame(list(zip(X_val, y_val)), columns=['image', 'class'])\n",
    "    \n",
    "    if normalize:\n",
    "        # Define the ImageDataGenerator class with rescaling for each channel\n",
    "        train_datagen = ImageDataGenerator(rescale=1./255)\n",
    "        val_datagen = ImageDataGenerator(rescale=1./255)\n",
    "    else:\n",
    "        train_datagen = ImageDataGenerator()\n",
    "        val_datagen = ImageDataGenerator()\n",
    "    \n",
    "    # Define the training and validation data generators\n",
    "    train_generator = train_datagen.flow_from_dataframe(\n",
    "        dataframe=train_df,\n",
    "        x_col='image',\n",
    "        y_col='class',\n",
    "        target_size=image_size,\n",
    "        batch_size=batch_size,\n",
    "        class_mode='categorical',\n",
    "        shuffle=True)\n",
    "    \n",
    "    val_generator = val_datagen.flow_from_dataframe(\n",
    "        dataframe=val_df,\n",
    "        x_col='image',\n",
    "        y_col='class',\n",
    "        target_size=image_size,\n",
    "        batch_size=batch_size,\n",
    "        class_mode='categorical',\n",
    "        shuffle=True)\n",
    "\n",
    "\n",
    "    if show_pictures:\n",
    "        # Get the class names\n",
    "        class_names = list(train_generator.class_indices.keys())\n",
    "        print(class_names)\n",
    "\n",
    "        # Display up to 3 images from each of the categories\n",
    "        for i, class_name in enumerate(class_names):\n",
    "            plt.figure(figsize=(10, 10))\n",
    "            \n",
    "            # Get a single batch to use for display\n",
    "            images, labels = train_generator.next()\n",
    "\n",
    "            # Un-normalize the images for display if normalization was used\n",
    "            if normalize:\n",
    "                images = images * 255\n",
    "\n",
    "            # Filter images of the current class\n",
    "            class_images = images[labels[:, i] == 1]\n",
    "                \n",
    "            # Number of images to show. We don't want to show more than 3 images.\n",
    "            num_images = min(len(class_images), 3)\n",
    "                \n",
    "            for j in range(num_images):\n",
    "                ax = plt.subplot(1, num_images, j + 1)\n",
    "                plt.imshow(class_images[j].astype(\"uint8\"))\n",
    "                plt.title(class_name)\n",
    "                plt.axis(\"off\")\n",
    "            plt.show()\n",
    "            \n",
    "    for class_name  in class_names:\n",
    "        count = y_train.count(class_name)\n",
    "        print(f'Number of {class_name} images: {count}')\n",
    "\n",
    "    return X_train, X_val, train_generator, val_generator\n",
    "\n",
    "X_train, X_val, train_generator, val_generator = prep_display_data(data_path, batch_size=32, shape=(80,80,3), show_pictures=False, stratify=True, normalize=True)\n"
   ]
  },
  {
   "cell_type": "markdown",
   "metadata": {},
   "source": [
    "## 4. Make our model\n",
    "\n",
    "This function creates the model we will use.\n",
    "\n",
    "One hyperparameter to explore is the activation function, which is set when making the model. We start with a ReLU as the default, but you can try others. For simplicity, we will use the same activation function for all but the last layer of the model, but you could change them individually.\n",
    "\n",
    "The last layer will almost always use a Softmax, which makes all the output values between 0 and 1 and sum to 1, transforming them into probabilities of the input belonging to each possible class."
   ]
  },
  {
   "cell_type": "code",
   "execution_count": null,
   "metadata": {
    "tags": []
   },
   "outputs": [],
   "source": [
    "def make_model(activation='relu', shape=(80,80,3), num_classes=4):\n",
    "    '''Sets up a model. \n",
    "          Takes in an activation function, shape for the input images, and number of classes.\n",
    "          Returns the model.'''\n",
    "    print(\"***********************************************************************\")\n",
    "    print(\"Make model:\")\n",
    "    print(f\"  - Using the activation function: {activation}.\")\n",
    "    print(f\"  - Model will have {num_classes} classes.\")\n",
    "    print(\"***********************************************************************\")\n",
    "    \n",
    "    # Define the model\n",
    "    model = tf.keras.Sequential([\n",
    "        layers.Conv2D(32, (3, 3), activation=activation, input_shape=shape),\n",
    "        layers.MaxPooling2D((2, 2)),\n",
    "        layers.Conv2D(64, (3, 3), activation=activation),\n",
    "        layers.MaxPooling2D((2, 2)),\n",
    "        layers.Conv2D(128, (3, 3), activation=activation),\n",
    "        layers.MaxPooling2D((2, 2)),\n",
    "        layers.Flatten(),\n",
    "        layers.Dense(128, activation=activation),\n",
    "        layers.Dense(num_classes, activation='softmax')\n",
    "    ])\n",
    "\n",
    "    return model\n",
    "\n",
    "model = make_model()\n",
    "model.summary()"
   ]
  },
  {
   "cell_type": "markdown",
   "metadata": {},
   "source": [
    "## 5. Compile and Train the model\n",
    "\n",
    "This step compiles the model, getting it ready for training. The primary hyperparameters here are:\n",
    "* the **loss function** (how we determine how close the predicted output is from the known output values),\n",
    "* the **optimization function** (how we determine what parameters should be updated and how),\n",
    "* the **learning rate** (how much each parameter should be adjusted), \n",
    "* and how many **epochs** should be run (remember, an epoch is a full pass through all the training data). "
   ]
  },
  {
   "cell_type": "code",
   "execution_count": null,
   "metadata": {
    "tags": []
   },
   "outputs": [],
   "source": [
    "\n",
    "# Define a function that takes an optimizer name as a string\n",
    "def load_optimizer(optimizer_name):\n",
    "  # Check if the optimizer name is valid\n",
    "  if optimizer_name in tf.keras.optimizers.__dict__:\n",
    "    # Return the corresponding optimizer function\n",
    "    return tf.keras.optimizers.__dict__[optimizer_name]\n",
    "  else:\n",
    "    # Raise an exception if the optimizer name is invalid\n",
    "    raise ValueError(f\"Invalid optimizer name: {optimizer_name}\")\n",
    "\n",
    "def compile_train_model(train_set, val_set, model,\n",
    "                        loss='categorical_crossentropy',\n",
    "                        optimizer='Adam', learning_rate=0.0001, epochs=10):\n",
    "    '''Compiles and trains the model. \n",
    "          Takes in an training set, a validation set, model, loss function, optimizer, learning rate,\n",
    "          and epochs.\n",
    "          Returns the compiled model and training history.'''\n",
    "    print(\"***********************************************************************\")\n",
    "    print(\"Compile and Train the model:\")\n",
    "    print(f\"  - Using the loss function: {loss}.\")\n",
    "    print(f\"  - Using the optimizer: {optimizer}.\")\n",
    "    print(f\"  - Using learning rate of: {learning_rate}.\")\n",
    "    print(f\"  - Running for {epochs} epochs.\")\n",
    "    print(\"***********************************************************************\")\n",
    "    # Compile the model\n",
    "    \n",
    "    opt= load_optimizer(optimizer)(learning_rate=learning_rate)\n",
    "    \n",
    "    model.compile(optimizer=opt,\n",
    "                  loss=loss,\n",
    "                  metrics=['accuracy'])\n",
    "    # Train the model\n",
    "    history = model.fit(train_set, epochs=epochs, validation_data=val_set)\n",
    "    \n",
    "    return model, history\n",
    "\n",
    "model, history = compile_train_model(train_generator, val_generator, model)"
   ]
  },
  {
   "cell_type": "markdown",
   "metadata": {},
   "source": [
    "## 6. Evaluate the model\n",
    "\n",
    "Now that we have trained our model let's evaluate how it does.\n"
   ]
  },
  {
   "cell_type": "code",
   "execution_count": null,
   "metadata": {
    "tags": []
   },
   "outputs": [],
   "source": [
    "def evaluate_model(train_set, val_set, model, history, num_classes=4):\n",
    "    '''Evaluates a model. \n",
    "          Takes in a train_set, val_set, model, history, number of classes.'''\n",
    "    print(\"***********************************************************************\")\n",
    "    print(\"Evaluate the model:\")\n",
    "    print(\"***********************************************************************\")\n",
    "    # Evaluate the model\n",
    "    loss, accuracy = model.evaluate(train_set)\n",
    "    print(f'Test loss: {loss}')\n",
    "    print(f'Test accuracy: {accuracy}')\n",
    "\n",
    "    # Plot the training and validation loss over time\n",
    "    plt.plot(history.history['loss'], label='Training Loss')\n",
    "    plt.plot(history.history['val_loss'], label='Validation Loss')\n",
    "    plt.title('Training and Validation Loss over Time')\n",
    "    plt.xlabel('Epoch')\n",
    "    plt.ylabel('Loss')\n",
    "    plt.legend()\n",
    "    plt.show()\n",
    "    \n",
    "    # Plot the training and validation accuracy over time\n",
    "    plt.plot(history.history['accuracy'], label='Training Accuracy')\n",
    "    plt.plot(history.history['val_accuracy'], label='Validation Accuracy')\n",
    "    plt.title('Training and Validation Accuracy over Time')\n",
    "    plt.xlabel('Epoch')\n",
    "    plt.ylabel('Accuracy')\n",
    "    plt.legend()\n",
    "    plt.show()\n",
    "\n",
    "    class_names = list(train_set.class_indices.keys()) # Get the class names\n",
    "    \n",
    "    y_pred = np.argmax(model.predict(val_set), axis=-1) # Make predictions on the test set\n",
    "\n",
    "    num_val_samples = val_set.samples  # total number of validation samples\n",
    "    batch_size = val_set.batch_size  # batch size\n",
    "\n",
    "    # Calculate the number of batches\n",
    "    num_batches = np.ceil(num_val_samples / batch_size)\n",
    "    num_batches = int(num_batches)\n",
    "\n",
    "    # Get the true labels\n",
    "    y_true = np.concatenate([y for x, y in (next(val_set) for _ in range(num_batches))], axis=0)\n",
    "\n",
    "    # Compute the confusion matrix\n",
    "    cm = confusion_matrix(y_true.argmax(axis=1), y_pred)\n",
    "    \n",
    "    # Plot the confusion matrix\n",
    "    plt.imshow(cm, cmap=plt.cm.Blues)\n",
    "    plt.title('Confusion Matrix')\n",
    "    plt.xlabel('Predicted Label')\n",
    "    plt.ylabel('True Label')\n",
    "    plt.xticks(range(num_classes),class_names)\n",
    "    plt.yticks(range(num_classes), class_names)\n",
    "    # plt.colorbar()\n",
    "    for i in range(num_classes):\n",
    "        for j in range(num_classes):\n",
    "            plt.text(j, i, cm[i, j], ha='center', va='center', color='black')\n",
    "    plt.show()\n",
    "\n",
    "evaluate_model(train_generator, val_generator, model, history)\n"
   ]
  },
  {
   "cell_type": "markdown",
   "metadata": {},
   "source": [
    "## 7. Explore hyperparameters!\n",
    "\n",
    "OK, we've trained the model once using some decent first guesses. Now, we can see if we can do better by exploring different hyperparameters.\n",
    "\n",
    "While there are methods to explore different hyperparameters systematically and track the results more efficiently, we will rely on some ad-hoc exploration and keep everything in the notebook.\n",
    "\n",
    "The following function pulls all the steps from above into a single function."
   ]
  },
  {
   "cell_type": "code",
   "execution_count": null,
   "metadata": {
    "tags": []
   },
   "outputs": [],
   "source": [
    "def the_whole_shebang(path, batch_size, shape, classes, activation, loss, optimizer, show_pictures=True):\n",
    "    \n",
    "    X_train, X_val, train_generator, val_generator = prep_display_data(data_path, batch_size, shape, show_pictures)\n",
    "    model = make_model(activation=activation, shape=shape, num_classes=classes)\n",
    "    model, history = compile_train_model(train_generator, val_generator, model, loss=loss,\n",
    "                        optimizer=optimizer, learning_rate=learning_rate, epochs=epochs)\n",
    "    evaluate_model(train_generator, val_generator, model, history, classes)"
   ]
  },
  {
   "cell_type": "markdown",
   "metadata": {},
   "source": [
    "### Copy the next cell and change hyperparameters\n",
    "\n",
    "You can copy the next cell multiple times and adjust the hyperparameters to compare results."
   ]
  },
  {
   "cell_type": "code",
   "execution_count": null,
   "metadata": {
    "tags": []
   },
   "outputs": [],
   "source": [
    "#data_path = 'data/bee_vs_wasp/' # Path to the data.\n",
    "        # This is defined above, you only need to change this if you change datasets\n",
    "    \n",
    "show_pictures = True # Show sample images from the dataset? Keep on at first, but may become distracting.\n",
    "                     # Set to False to turn off\n",
    "\n",
    "# Hyperparameters\n",
    "shape = (80,80,3)  # Dimensions to use for the images...the raw data are 80x80\n",
    "                   #  color images, but you could down-sample them\n",
    "                   #  or convert them to black and white if you wanted\n",
    "batch_size = 32  # What batch size to use\n",
    "classes = 4 # We have 4 classes in our dataset: bee, wasp, other_insect, other_noninsect\n",
    "            # Only change this if you change the dataset\n",
    "activation='relu' # The activation function is an important hyperparameter\n",
    "                  # Other activations functions to try: tanh, sigmoid\n",
    "\n",
    "loss= 'categorical_crossentropy' # Loss function\n",
    "        # Other loss functions to try: losses.CategoricalHinge()\n",
    "        #                              losses.KLDivergence()\n",
    "\n",
    "optimizer='Adagrad' # Optimizer: Adagrad is just an example, others to try are Adam or RMSprop\n",
    "\n",
    "learning_rate=0.001 # Try increasing or decreasing the learning rate by an order of magnitude\n",
    "\n",
    "epochs = 10 # Try running more epochs\n",
    "\n",
    "# Run everything with these hyperparameters\n",
    "the_whole_shebang(data_path, batch_size, shape, classes, activation, loss, optimizer, show_pictures)"
   ]
  },
  {
   "cell_type": "markdown",
   "metadata": {},
   "source": [
    "## 8. EDIT OR REMOVE A look inside CNNs\n",
    "To get an idea for what is happening *inside* this model, let's look at a **feature map**. Below we see a vertical edge detection filter applied to a sunflower picture, resulting in a feature map of that image.\n",
    "\n",
    "![](images/01.1_filter_image.jpg)\n",
    "\n",
    "Imagine you're a detective investigating a scene.  A feature map is like a sketch you create, focusing on specific details that might be clues to solving the case.  In a CNN, the \"case\" is recognizing patterns in an image, and the feature maps capture these patterns at different levels of complexity. Early layers might create feature maps that detect basic edges, corners, or blobs of color. As the network progresses through more layers, the feature maps become more intricate, combining these simpler features to represent more complex objects or shapes.\n",
    "\n",
    "Getting a bit more technical, a feature map is a 2D array of activations produced by applying a convolutional filter to an input image or a previous layer's feature map. It essentially captures the presence and strength of specific visual features the filter is optimized to detect within the input.\n",
    "\n",
    "The **convolutional filters** (also just called \"filters\" or \"kernels\") are small matrices containing learnable weights. The filter \"slides\" across the input image, performing element-wise multiplication with the underlying image data at each position. The result of the multiplication is then passed through an activation function (like ReLU) to introduce non-linearity and help the network learn complex features. A convolutional layer typically has multiple filters, each generating a separate feature map. These feature maps capture different aspects of the input, providing a richer representation of the image.\n",
    "\n",
    "**NOTE**: The above sunflower example could potentially be a bit misleading. While a model *can* and probably will develop a vertical edge detection filter, the model develops it's filter's weights through the same backpropagation process as other deep neural networks. Most of the filters, and their resulting feature maps, will not be as easily interpretable as the vertical edge detection filter."
   ]
  },
  {
   "cell_type": "code",
   "execution_count": null,
   "metadata": {},
   "outputs": [],
   "source": [
    "# Get the filters from the first layer of the model\n",
    "filters = model.layers[0].get_weights()[0]\n",
    "\n",
    "# Get the first batch of images from the training set\n",
    "conv_images = X_train.take(1)\n",
    "plt.figure(figsize=(10, 10))\n",
    "for images, labels in conv_images:\n",
    "    images = images.numpy()\n",
    "    labels = labels.numpy()\n",
    "\n",
    "# Get the feature maps from the first layer of the model\n",
    "feature_maps = tf.keras.models.Model(inputs=model.inputs, outputs=model.layers[0].output)\n",
    "feature_maps = feature_maps.predict(images)\n",
    "\n",
    "# Normalize the filters and feature maps. This will make the images more clear.\n",
    "normal_filters = (filters - filters.min()) / (filters.max() - filters.min())\n",
    "normal_feature_maps = (feature_maps - feature_maps.min()) / (feature_maps.max() - feature_maps.min())\n",
    "\n",
    "# Display the filters, images and feature maps\n",
    "plt.figure(figsize=(10, 10))\n",
    "\n",
    "# ----- Filters -----\n",
    "for i in range(3):\n",
    "    plt.subplot(3, 3, i + 1)  # 3 rows, 3 columns, position 1 to 3 \n",
    "    plt.imshow(normal_filters[:, :, :, i], cmap='gray')\n",
    "    plt.title(f'Filter {i}')\n",
    "    plt.axis('off')\n",
    "\n",
    "# ----- Original Images -----\n",
    "for i in range(3):\n",
    "    plt.subplot(3, 3, i + 4)  # Position 4 to 6\n",
    "    plt.imshow(images[i].astype(\"uint8\"))\n",
    "    plt.title(f'Original Image {i}')\n",
    "    plt.axis('off')\n",
    "\n",
    "# -----  Feature Maps (Image 1) -----\n",
    "for i in range(3):\n",
    "    plt.subplot(3, 3, i + 7)  # Position 7 to 9\n",
    "    plt.imshow(normal_feature_maps[1, :, :, i], cmap='gray')\n",
    "    plt.title(f'Feature Map 1, Channel {i}')\n",
    "    plt.axis('off')\n",
    "\n",
    "plt.suptitle('Visualizing a CNN')  # Overall title for the plot\n",
    "plt.tight_layout()  # Adjust spacing to prevent overlaps\n",
    "plt.show()\n"
   ]
  },
  {
   "cell_type": "markdown",
   "metadata": {},
   "source": [
    "Just as with the other hyperparameters in Section 7 above, the number of filters, the size of the filters, and the stride of the filters are all hyperparameters that can be adjusted. You can also add or remove convolutional and pooling layers, or add dropout layers. Dropout layers are a regularization technique that helps prevent overfitting by randomly setting a fraction of input units to 0 at each update during training. Here is an example of how to add a dropout layer to the model:\n",
    "    \n",
    "```python\n",
    "    # Import the Dropout layer\n",
    "    from tensorflow.keras.layers import Dropout\n",
    "\n",
    "    # Existing Conv2D layer\n",
    "    # Dropout layer with a 50% dropout rate\n",
    "    model.add(Dropout(0.5)) \n",
    "    # Existing MaxPooling2D layer\n",
    "```\n",
    "To adjust the stride and padding of the convolutional layers, you can add the `strides` and `padding` arguments to the `Conv2D` layer. The `strides` argument is a tuple of two integers, specifying the strides of the convolution along the height and width. The `padding` argument can be either `'valid'` or `'same'`. `'valid'` means no padding, while `'same'` means the output feature map will have the same spatial dimensions as the input feature map. Here is an example of a convulutional layer with a stride of 2 and padding of `'same'`:\n",
    "    \n",
    "```python\n",
    "    # Replacement Conv2D layer\n",
    "    layers.Conv2D(32, (3, 3), strides=(2, 2), padding='same', activation=activation)\n",
    "    # Replacement MaxPooling2D layer\n",
    "    layers.MaxPooling2D((2, 2), padding='same', strides=(2, 2))\n",
    "```\n",
    "\n",
    "## 9. Conclusion\n",
    "Experiment with the code in Section 4 to see how different hyperparameters and model architectures affect the model's performance. That's it. We'll see you in the next Module!"
   ]
  },
  {
   "cell_type": "markdown",
   "metadata": {},
   "source": [
    "## Bonus Exercise\n",
    "If you found this exercise pretty simple, try editing the code in this notebook such that our function from Section 7 (*the_whole_shebang*) can control the Dropout rate, stride, and padding of the convolutional layers."
   ]
  }
 ],
 "metadata": {
  "kernelspec": {
   "display_name": "Tensorflow-2.15",
   "language": "python",
   "name": "tensorflow-2.15"
  },
  "language_info": {
   "codemirror_mode": {
    "name": "ipython",
    "version": 3
   },
   "file_extension": ".py",
   "mimetype": "text/x-python",
   "name": "python",
   "nbconvert_exporter": "python",
   "pygments_lexer": "ipython3",
   "version": "3.11.5"
  }
 },
 "nbformat": 4,
 "nbformat_minor": 4
}
